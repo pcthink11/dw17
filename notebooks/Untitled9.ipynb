{
 "cells": [
  {
   "cell_type": "code",
   "execution_count": 49,
   "metadata": {},
   "outputs": [
    {
     "name": "stdout",
     "output_type": "stream",
     "text": [
      "Batsman\n",
      "Aaron Finch             4052\n",
      "Abid Ali                 112\n",
      "Abu Jayed                  0\n",
      "Adam Zampa                99\n",
      "Adil Rashid              541\n",
      "Aftab Alam                61\n",
      "Aiden Markram            503\n",
      "Alex Carey               429\n",
      "Alex Hales              2419\n",
      "Andile Phehlukwayo       416\n",
      "Andre Russell            998\n",
      "Angelo Mathews          5380\n",
      "Anrich Nortje              8\n",
      "Asghar Afghan           2035\n",
      "Ashley Nurse             482\n",
      "Avishka Fernando          71\n",
      "Babar Azam              2659\n",
      "Ben Stokes              2196\n",
      "Bhuvneshwar Kumar        523\n",
      "Carlos Brathwaite        389\n",
      "Chris Gayle            10151\n",
      "Chris Morris             393\n",
      "Chris Woakes            1039\n",
      "Colin Munro             1146\n",
      "Colin de Grandhomme      443\n",
      "Dale Steyn               365\n",
      "Darren Bravo            2820\n",
      "David Miller            2922\n",
      "David Warner            4343\n",
      "David Willey             265\n",
      "                       ...  \n",
      "Ravindra Jadeja         2035\n",
      "Rohit Sharma            8010\n",
      "Ross Taylor             8026\n",
      "Rubel Hossain            123\n",
      "Sabbir Rahman           1219\n",
      "Samiullah Shinwari      1737\n",
      "Sarfaraz Ahmed          2031\n",
      "Shadab Khan              294\n",
      "Shaheen Afridi            22\n",
      "Shai Hope               2247\n",
      "Shakib Al Hasan         5717\n",
      "Shannon Gabriel           21\n",
      "Shaun Marsh             2747\n",
      "Sheldon Cottrell          26\n",
      "Shikhar Dhawan          5355\n",
      "Shimron Hetmyer          899\n",
      "Shoaib Malik            7522\n",
      "Soumya Sarkar           1467\n",
      "Steve Smith             3431\n",
      "Tabraiz Shamsi             0\n",
      "Tamim Iqbal             6636\n",
      "Thisara Perera          2147\n",
      "Tim Southee              669\n",
      "Tom Curran               149\n",
      "Tom Latham              2395\n",
      "Trent Boult              144\n",
      "Usman Khawaja           1238\n",
      "Vijay Shankar            165\n",
      "Virat Kohli            10843\n",
      "Yuzvendra Chahal          34\n",
      "Name: Runs, Length: 149, dtype: int64\n"
     ]
    }
   ],
   "source": [
    "import pandas as pd\n",
    "file=pd.read_csv(\"E:\\\\Cricket 2019\\\\Batsman_Data.csv\",header=0,index_col=\"S.No\")\n",
    "df=pd.DataFrame(file)\n",
    "#df.drop(0,axis=1,inplace=True)\n",
    "#df.groupby('Batsman').fillna(0).agg({'Runs':'sum','BF':'sum'})\n",
    "df['Runs'].fillna(0)\n",
    "df['Runs']=df['Runs'].replace(to_replace=\"-\",value=0)\n",
    "#df['Runs']\n",
    "print(df.groupby('Batsman')['Runs'].apply(lambda x : x.astype(int).sum()))\n",
    "#Balls=df.groupby('Batsman')['BF'].value_counts().fillna(0)\n",
    "#print(Runs)"
   ]
  },
  {
   "cell_type": "code",
   "execution_count": null,
   "metadata": {},
   "outputs": [],
   "source": []
  }
 ],
 "metadata": {
  "kernelspec": {
   "display_name": "Python 3",
   "language": "python",
   "name": "python3"
  },
  "language_info": {
   "codemirror_mode": {
    "name": "ipython",
    "version": 3
   },
   "file_extension": ".py",
   "mimetype": "text/x-python",
   "name": "python",
   "nbconvert_exporter": "python",
   "pygments_lexer": "ipython3",
   "version": "3.6.5"
  }
 },
 "nbformat": 4,
 "nbformat_minor": 2
}
