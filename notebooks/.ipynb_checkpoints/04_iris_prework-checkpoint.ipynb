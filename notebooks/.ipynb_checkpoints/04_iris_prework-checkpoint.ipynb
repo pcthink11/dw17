{
 "cells": [
  {
   "cell_type": "code",
   "execution_count": 1,
   "metadata": {},
   "outputs": [],
   "source": [
    "'''\n",
    "EXERCISE: \"Human Learning\" with iris data\n",
    "'''\n",
    "from sklearn.datasets import load_iris\n",
    "import pandas as pd\n",
    "import numpy as np\n",
    "%matplotlib inline"
   ]
  },
  {
   "cell_type": "code",
   "execution_count": 2,
   "metadata": {},
   "outputs": [
    {
     "data": {
      "text/plain": [
       "sklearn.utils.Bunch"
      ]
     },
     "execution_count": 2,
     "metadata": {},
     "output_type": "execute_result"
    }
   ],
   "source": [
    "# load the famous iris data\n",
    "iris = load_iris()\n",
    "type(iris)"
   ]
  },
  {
   "cell_type": "code",
   "execution_count": 3,
   "metadata": {},
   "outputs": [
    {
     "data": {
      "text/plain": [
       "numpy.ndarray"
      ]
     },
     "execution_count": 3,
     "metadata": {},
     "output_type": "execute_result"
    }
   ],
   "source": [
    "type(iris.data)"
   ]
  },
  {
   "cell_type": "code",
   "execution_count": 4,
   "metadata": {},
   "outputs": [
    {
     "data": {
      "text/plain": [
       "array([[5.1, 3.5, 1.4, 0.2],\n",
       "       [4.9, 3. , 1.4, 0.2],\n",
       "       [4.7, 3.2, 1.3, 0.2],\n",
       "       [4.6, 3.1, 1.5, 0.2],\n",
       "       [5. , 3.6, 1.4, 0.2]])"
      ]
     },
     "execution_count": 4,
     "metadata": {},
     "output_type": "execute_result"
    }
   ],
   "source": [
    "# what do you think these attributes represent?\n",
    "iris.data[:5,]"
   ]
  },
  {
   "cell_type": "code",
   "execution_count": 5,
   "metadata": {},
   "outputs": [
    {
     "data": {
      "text/plain": [
       "(150, 4)"
      ]
     },
     "execution_count": 5,
     "metadata": {},
     "output_type": "execute_result"
    }
   ],
   "source": [
    "iris.data.shape"
   ]
  },
  {
   "cell_type": "code",
   "execution_count": 6,
   "metadata": {},
   "outputs": [
    {
     "data": {
      "text/plain": [
       "['sepal length (cm)',\n",
       " 'sepal width (cm)',\n",
       " 'petal length (cm)',\n",
       " 'petal width (cm)']"
      ]
     },
     "execution_count": 6,
     "metadata": {},
     "output_type": "execute_result"
    }
   ],
   "source": [
    "iris.feature_names"
   ]
  },
  {
   "cell_type": "code",
   "execution_count": 7,
   "metadata": {},
   "outputs": [
    {
     "data": {
      "text/plain": [
       "array([0, 0, 0, 0, 0, 0, 0, 0, 0, 0, 0, 0, 0, 0, 0, 0, 0, 0, 0, 0, 0, 0,\n",
       "       0, 0, 0, 0, 0, 0, 0, 0, 0, 0, 0, 0, 0, 0, 0, 0, 0, 0, 0, 0, 0, 0,\n",
       "       0, 0, 0, 0, 0, 0, 1, 1, 1, 1, 1, 1, 1, 1, 1, 1, 1, 1, 1, 1, 1, 1,\n",
       "       1, 1, 1, 1, 1, 1, 1, 1, 1, 1, 1, 1, 1, 1, 1, 1, 1, 1, 1, 1, 1, 1,\n",
       "       1, 1, 1, 1, 1, 1, 1, 1, 1, 1, 1, 1, 2, 2, 2, 2, 2, 2, 2, 2, 2, 2,\n",
       "       2, 2, 2, 2, 2, 2, 2, 2, 2, 2, 2, 2, 2, 2, 2, 2, 2, 2, 2, 2, 2, 2,\n",
       "       2, 2, 2, 2, 2, 2, 2, 2, 2, 2, 2, 2, 2, 2, 2, 2, 2, 2])"
      ]
     },
     "execution_count": 7,
     "metadata": {},
     "output_type": "execute_result"
    }
   ],
   "source": [
    "iris.target"
   ]
  },
  {
   "cell_type": "code",
   "execution_count": null,
   "metadata": {},
   "outputs": [],
   "source": [
    "iris.target_names"
   ]
  },
  {
   "cell_type": "code",
   "execution_count": null,
   "metadata": {},
   "outputs": [],
   "source": [
    "# intro to numpy\n",
    "type(iris.data)"
   ]
  },
  {
   "cell_type": "code",
   "execution_count": null,
   "metadata": {},
   "outputs": [],
   "source": [
    "## PART 1: Read data into pandas and explore\n",
    "pd.DataFrame(iris.data).head()"
   ]
  },
  {
   "cell_type": "code",
   "execution_count": null,
   "metadata": {},
   "outputs": [],
   "source": [
    "iris.feature_names\n",
    "# the feature_names are a bit messy, let's \n",
    "# clean them up. remove the (cm)\n",
    "# at the end and replace any spaces with an underscore\n",
    "# create a list called \"features\" that \n",
    "# holds the cleaned column names\n",
    "features = [i.replace(' ','_')[:-5] for i in iris.feature_names]# <FILL IN>\n",
    "features"
   ]
  },
  {
   "cell_type": "code",
   "execution_count": null,
   "metadata": {
    "collapsed": true
   },
   "outputs": [],
   "source": [
    "# read the iris data into pandas, with our refined column names\n",
    "df = pd.DataFrame(iris.data, columns=features)"
   ]
  },
  {
   "cell_type": "code",
   "execution_count": null,
   "metadata": {},
   "outputs": [],
   "source": [
    "#df.head()\n",
    "df.as_matrix()"
   ]
  },
  {
   "cell_type": "code",
   "execution_count": null,
   "metadata": {},
   "outputs": [],
   "source": [
    "# EXERCISEEE\n",
    "\n",
    "# create a list of species (should be 150 elements) \n",
    "# using iris.target and iris.target_names\n",
    "# resulting list should only have the words \"setosa\", \"versicolor\", and \"virginica\"\n",
    "'''\n",
    "species ==  \n",
    "['setosa',\n",
    " 'setosa',\n",
    " 'setosa',\n",
    " 'setosa',\n",
    "...\n",
    "...\n",
    " 'virginica',\n",
    " 'virginica']\n",
    "\n",
    "Hint: use the iris.target_names and iris.target arrays\n",
    "'''\n",
    "\n",
    "\n",
    "\n",
    "\n",
    "\n",
    "\n",
    "\n",
    "\n",
    "\n",
    "\n",
    "\n"
   ]
  },
  {
   "cell_type": "code",
   "execution_count": null,
   "metadata": {},
   "outputs": [],
   "source": [
    "# ANSWERRRR\n",
    "\n",
    "\n",
    "species = [iris.target_names[i] for i in iris.target]\n",
    "list(iris.target_names[iris.target])"
   ]
  },
  {
   "cell_type": "code",
   "execution_count": null,
   "metadata": {},
   "outputs": [],
   "source": [
    "# add the species list as a new DataFrame column\n",
    "df['species'] = species\n",
    "df.head()"
   ]
  },
  {
   "cell_type": "code",
   "execution_count": null,
   "metadata": {},
   "outputs": [],
   "source": [
    "# explore data numerically, looking for differences between species\n",
    "# try grouping by species and check out the different predictors\n",
    "# explore data numerically, looking for differences between species\n",
    "df.describe()\n",
    "df.groupby('species').describe()"
   ]
  },
  {
   "cell_type": "code",
   "execution_count": null,
   "metadata": {},
   "outputs": [],
   "source": [
    "df.groupby('species').sepal_length.mean()"
   ]
  },
  {
   "cell_type": "code",
   "execution_count": null,
   "metadata": {},
   "outputs": [],
   "source": [
    "df.groupby('species')['sepal_length', 'sepal_width', 'petal_length', 'petal_width'].mean()"
   ]
  },
  {
   "cell_type": "code",
   "execution_count": null,
   "metadata": {},
   "outputs": [],
   "source": [
    "'''\n",
    "agg is a new function we haven't seen yet. It will\n",
    "aggregate each column using specified lists of functions.\n",
    "We have been using some of its shortcuts but using\n",
    "agg allows us to put in many functions at a time\n",
    "\n",
    "df.groupby('species').agg(np.mean)\n",
    "==\n",
    "df.groupby('species').mean()\n",
    "\n",
    "BUT \n",
    "df.groupby('species').agg([np.min, np.max])\n",
    "\n",
    "doesn't have a short form\n",
    "'''\n",
    "\n",
    "df.groupby('species').agg([np.min, np.max, np.mean, np.std])\n"
   ]
  },
  {
   "cell_type": "code",
   "execution_count": null,
   "metadata": {},
   "outputs": [],
   "source": [
    "color_map = {\n",
    "    'versicolor': 'r',\n",
    "    'setosa': 'b',\n",
    "    'virginica': 'g'\n",
    "}\n",
    "colors = [color_map[s] for s in df['species']]\n",
    "pd.scatter_matrix(df, color=colors, figsize=(10,10))"
   ]
  },
  {
   "cell_type": "code",
   "execution_count": null,
   "metadata": {},
   "outputs": [],
   "source": [
    "# parallel coordinates help us visualize multivariate data\n",
    "\n",
    "from pandas.tools.plotting import parallel_coordinates\n",
    "parallel_coordinates(df, 'species')"
   ]
  },
  {
   "cell_type": "code",
   "execution_count": null,
   "metadata": {},
   "outputs": [],
   "source": [
    "# I used values in order to see all of the data at once\n",
    "# without .values, a dataframe is returned\n",
    "\n",
    "\n",
    "## PART 2: Write a function to predict the species for each observation\n",
    "\n",
    "\n",
    "### EXERCISE!!!!! ###\n",
    "\n",
    "# note data must be in order\n",
    "# ['sepal_length', 'sepal_width', 'petal_length', 'petal_width']\n",
    "\n",
    "# define a function that takes in a row of data and returns a predicted species\n",
    "def classify_iris(data):\n",
    "    if False and False or False and False:\n",
    "        return 'rose'\n",
    "    elif False and (True or False):\n",
    "        return 'lily'\n",
    "    else:\n",
    "        return 'I have no clue'\n",
    "\n",
    "# example use\n",
    "classify_iris([3.4, 5.4, 7.5, 2.3])"
   ]
  },
  {
   "cell_type": "code",
   "execution_count": null,
   "metadata": {},
   "outputs": [],
   "source": [
    "def test_my_function(func):\n",
    "    # make predictions and store as numpy array\n",
    "    preds = np.array([func(row) for row in df.values])\n",
    "    # calculate the accuracy of the predictions\n",
    "    return np.mean(preds == df.species.values)"
   ]
  },
  {
   "cell_type": "code",
   "execution_count": null,
   "metadata": {},
   "outputs": [],
   "source": [
    "test_my_function(classify_iris)"
   ]
  },
  {
   "cell_type": "code",
   "execution_count": null,
   "metadata": {
    "collapsed": true
   },
   "outputs": [],
   "source": [
    "# EXAMPLEE using only petal_width\n",
    "def hunter_classify_iris(data):\n",
    "    if data[3] < 3:\n",
    "        return 'setosa'\n",
    "    else:\n",
    "        return None\n"
   ]
  },
  {
   "cell_type": "code",
   "execution_count": null,
   "metadata": {},
   "outputs": [],
   "source": [
    "test_my_function(hunter_classify_iris) # TRY AND BEAT ME"
   ]
  }
 ],
 "metadata": {
  "anaconda-cloud": {},
  "kernelspec": {
   "display_name": "Python 3",
   "language": "python",
   "name": "python3"
  },
  "language_info": {
   "codemirror_mode": {
    "name": "ipython",
    "version": 3
   },
   "file_extension": ".py",
   "mimetype": "text/x-python",
   "name": "python",
   "nbconvert_exporter": "python",
   "pygments_lexer": "ipython3",
   "version": "3.6.5"
  }
 },
 "nbformat": 4,
 "nbformat_minor": 1
}
