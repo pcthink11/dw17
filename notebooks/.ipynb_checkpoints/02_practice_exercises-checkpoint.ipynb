{
 "cells": [
  {
   "cell_type": "markdown",
   "metadata": {},
   "source": [
    "# This notebooks has a number of problems to help you get better at Python"
   ]
  },
  {
   "cell_type": "markdown",
   "metadata": {},
   "source": [
    "### Problem 1: Write a function to convert miles to Kilo Meters\n",
    "\n",
    "Hint: 1 mile = 1.6 km"
   ]
  },
  {
   "cell_type": "code",
   "execution_count": 3,
   "metadata": {},
   "outputs": [
    {
     "name": "stdout",
     "output_type": "stream",
     "text": [
      "1.6\n"
     ]
    }
   ],
   "source": [
    "# Code the following function\n",
    "def convert_to_km(miles):\n",
    "       return (miles*1.6)\n",
    "    \n",
    "    #pass  # replace pass with your code\n",
    "print(convert_to_km(1))\n"
   ]
  },
  {
   "cell_type": "code",
   "execution_count": 2,
   "metadata": {},
   "outputs": [],
   "source": [
    "# This is your scratch space to do what you want like test.  \n",
    "# To create more scratch space, just click on Insert -> Cell from the menu"
   ]
  },
  {
   "cell_type": "code",
   "execution_count": 4,
   "metadata": {},
   "outputs": [],
   "source": [
    "# If your code is right, the following asserts would succeed, otherwise, you will get a Traceback error\n",
    "# If you get an error, go back to above code and modify and try again.\n",
    "assert(convert_to_km(0) == 0)\n",
    "assert(convert_to_km(1) == 1.6)\n",
    "assert(convert_to_km(2) == 3.2)\n",
    "assert(convert_to_km(1.25) == 2.0)"
   ]
  },
  {
   "cell_type": "markdown",
   "metadata": {},
   "source": [
    "### Problem 2: Write a function to compute powers of 2\n",
    "\n",
    "Hint: Powers of 2 are 1, 2, 4, 8, 16, 32 and so on for 2 to the power of 0, 1, 2, 3, 4, 5."
   ]
  },
  {
   "cell_type": "code",
   "execution_count": 9,
   "metadata": {},
   "outputs": [
    {
     "name": "stdout",
     "output_type": "stream",
     "text": [
      "8\n"
     ]
    }
   ],
   "source": [
    "# Code the following function\n",
    "def power_of_2(power):\n",
    "    return(2**power)\n",
    "    #pass  # replace pass with your code\n",
    "    \n",
    "print(power_of_2(3))\n",
    "   "
   ]
  },
  {
   "cell_type": "code",
   "execution_count": null,
   "metadata": {},
   "outputs": [],
   "source": [
    "# For example, you can test your code by typing power_of_2(1) and confirming the result."
   ]
  },
  {
   "cell_type": "code",
   "execution_count": 11,
   "metadata": {},
   "outputs": [],
   "source": [
    "# If your code is right, the following asserts would succeed\n",
    "assert(power_of_2(0) == 1)\n",
    "assert(power_of_2(1) == 2)\n",
    "assert(power_of_2(2) == 4)\n",
    "assert(power_of_2(3) == 8)"
   ]
  },
  {
   "cell_type": "markdown",
   "metadata": {},
   "source": [
    " #### Problem 3: Write a function to check if the number is a power of 2\n",
    " \n",
    " If I pass in a value of 1, 2, 4, 8, 16 ... it should return True.  Otherwise, it should return False."
   ]
  },
  {
   "cell_type": "code",
   "execution_count": 17,
   "metadata": {},
   "outputs": [
    {
     "name": "stdout",
     "output_type": "stream",
     "text": [
      "Calling check_power True\n"
     ]
    }
   ],
   "source": [
    "def check_power_of_2(numb):\n",
    "    for i in range(0,round(numb/2)+1):\n",
    "        if numb==2**i:\n",
    "            return True\n",
    "    return False\n",
    "\n",
    "print(\"Calling check_power\",check_power_of_2(4))\n",
    "    \n",
    "    "
   ]
  },
  {
   "cell_type": "code",
   "execution_count": 18,
   "metadata": {},
   "outputs": [],
   "source": [
    "# If your code is right, the following asserts would succeed.\n",
    "assert(check_power_of_2(2) is True)\n",
    "assert(check_power_of_2(3) is False)\n",
    "assert(check_power_of_2(8) is True)\n",
    "assert(check_power_of_2(12) is False)"
   ]
  },
  {
   "cell_type": "markdown",
   "metadata": {},
   "source": [
    "### Problem 4: Write a function that returns the nth fibonaci sequence\n",
    "\n",
    "If I call with value of:\n",
    "    * 1, return the first fib sequence of 1\n",
    "    * 2, return 2nd number in fub seq of 1\n",
    "    * 3, return 1 + 1 = 2\n",
    "    * 4, return 1 + 2 = 3\n",
    "    * 5, return 2 + 3 = 5\n",
    "    * 6, return 3 + 5 = 8\n",
    "\n",
    "Ref: http://en.wikipedia.org/wiki/Fibonacci_number"
   ]
  },
  {
   "cell_type": "code",
   "execution_count": 22,
   "metadata": {},
   "outputs": [
    {
     "data": {
      "text/plain": [
       "3"
      ]
     },
     "execution_count": 22,
     "metadata": {},
     "output_type": "execute_result"
    }
   ],
   "source": [
    "def fib_value(numb):\n",
    "    t1=1\n",
    "    t2=1\n",
    "    for i in range(0,numb-2):\n",
    "        nextTerm = t1 + t2\n",
    "        t1 = t2\n",
    "        t2 = nextTerm\n",
    "    return t2\n",
    "\n",
    "fib_value(4)"
   ]
  },
  {
   "cell_type": "code",
   "execution_count": 23,
   "metadata": {},
   "outputs": [],
   "source": [
    "# If your code is right, the following asserts would succeed. \n",
    "assert(fib_value(1) == 1)\n",
    "assert(fib_value(5) == 5)\n",
    "assert(fib_value(6) == 8)\n",
    "assert(fib_value(7) == 13)"
   ]
  },
  {
   "cell_type": "markdown",
   "metadata": {},
   "source": [
    "### Problem 5: Write a function to check if a number is a prime number"
   ]
  },
  {
   "cell_type": "code",
   "execution_count": 28,
   "metadata": {},
   "outputs": [
    {
     "name": "stdout",
     "output_type": "stream",
     "text": [
      "True\n"
     ]
    }
   ],
   "source": [
    "def is_prime(numb):\n",
    "    if numb==2 or numb==3:\n",
    "        return True\n",
    "    else:\n",
    "        if ((numb-1)%6 ==0) or ((numb+1)%6==0):\n",
    "            return True\n",
    "    return False\n",
    "print(is_prime(11))"
   ]
  },
  {
   "cell_type": "code",
   "execution_count": 29,
   "metadata": {},
   "outputs": [],
   "source": [
    "# If your code is right, the following asserts would succeed. \n",
    "assert(is_prime(2) is True)\n",
    "assert(is_prime(11) is True)\n",
    "assert(is_prime(12) is False)\n",
    "assert(is_prime(13) is True)"
   ]
  },
  {
   "cell_type": "markdown",
   "metadata": {},
   "source": [
    "### Problem 6: Write a function that returns the max number in a given sequence (list)\n",
    "\n",
    "Don't use the max function\n",
    "\n",
    "* For [1, 3, 2], return 3\n",
    "* For [3, 3, 4, 5, 1], return 5\n",
    "* For [], return None"
   ]
  },
  {
   "cell_type": "code",
   "execution_count": 36,
   "metadata": {},
   "outputs": [
    {
     "data": {
      "text/plain": [
       "99"
      ]
     },
     "execution_count": 36,
     "metadata": {},
     "output_type": "execute_result"
    }
   ],
   "source": [
    "def find_max(seq):\n",
    "    if len(seq)==0:\n",
    "        return None\n",
    "    max=seq[0]\n",
    "    for i in range(0,len(seq)):\n",
    "        if seq[i]>max:\n",
    "            max=seq[i]\n",
    "    return max\n",
    "find_max([1,3,2,7,99,6])"
   ]
  },
  {
   "cell_type": "code",
   "execution_count": 37,
   "metadata": {},
   "outputs": [],
   "source": [
    "# If your code is right, the following asserts would succeed.\n",
    "assert(find_max([1, 3, 2]) == 3)\n",
    "assert(find_max([3, 3, 4, 5, 1]) == 5)\n",
    "assert(find_max([]) is None)"
   ]
  },
  {
   "cell_type": "markdown",
   "metadata": {},
   "source": [
    "### Problem 7: Find the most common (repeated) number in a sequence\n",
    "\n",
    "* For [1, 1, 3, 2], return 1 (most common or repeated value)\n",
    "* For [1, 2, 2, 2, 3], return 2\n",
    "* For empty list [], return None\n",
    "\n",
    "Hint: Creating a Dictionary of numbers with their counts might be useful"
   ]
  },
  {
   "cell_type": "code",
   "execution_count": 32,
   "metadata": {},
   "outputs": [
    {
     "data": {
      "text/plain": [
       "1"
      ]
     },
     "execution_count": 32,
     "metadata": {},
     "output_type": "execute_result"
    }
   ],
   "source": [
    "def most_common(seq):\n",
    "    #create a dictionary\n",
    "    d=dict()\n",
    "    #return None on an empty sequence\n",
    "    if(len(seq)==0):\n",
    "        return None\n",
    "    \n",
    "    #initialize the dictionary in order to be able to iterate on the for loop\n",
    "    d.update({0:0})\n",
    "    \n",
    "    #for each item in the sequence, use the dictionary to update the counter\n",
    "    for i in range(0,len(seq)):\n",
    "        for (key,value) in d.copy().items():\n",
    "            if(key==seq[i]):\n",
    "                d[key]+=1\n",
    "            else:\n",
    "                d.update({seq[i]:1})\n",
    "    #remove the dummy initialization, unless the sequence has a value 0            \n",
    "    if(d[0]==0):\n",
    "        d.pop(0)\n",
    "    \n",
    "    #return the key with max value(repetitions)\n",
    "    return max(d, key=d.get)\n",
    "    \n",
    "most_common([1, 1, 3, 2])        \n",
    "    "
   ]
  },
  {
   "cell_type": "code",
   "execution_count": 31,
   "metadata": {},
   "outputs": [],
   "source": [
    "# If your code is right, the following asserts would succeed.\n",
    "assert(most_common([1, 1, 3, 2]) == 1)\n",
    "assert(most_common([1, 2, 2, 2, 5]) == 2)\n",
    "assert(most_common([]) is None)"
   ]
  },
  {
   "cell_type": "markdown",
   "metadata": {},
   "source": [
    "### Problem 8: Check if a string is a palindrome.\n",
    "\n",
    "Palindrome read the same backwards and forwards.\n",
    "\n",
    "Ref: http://en.wikipedia.org/wiki/Palindrome"
   ]
  },
  {
   "cell_type": "code",
   "execution_count": 33,
   "metadata": {},
   "outputs": [],
   "source": [
    "def is_palindrome(seq):\n",
    "    if(seq==seq[::-1]):\n",
    "        return True\n",
    "    else:\n",
    "        return False\n",
    "    "
   ]
  },
  {
   "cell_type": "code",
   "execution_count": 34,
   "metadata": {},
   "outputs": [],
   "source": [
    "# If your code is right, the following asserts would succeed.\n",
    "assert(is_palindrome('radar') is True)\n",
    "assert(is_palindrome('civic') is True)\n",
    "assert(is_palindrome('honda') is False)"
   ]
  },
  {
   "cell_type": "markdown",
   "metadata": {},
   "source": [
    "### Problem 9: Find the five most commonly used words in Gettysburg Address\n",
    "\n",
    "Hint: http://www.d.umn.edu/~rmaclin/gettysburg-address.html"
   ]
  },
  {
   "cell_type": "code",
   "execution_count": 5,
   "metadata": {},
   "outputs": [
    {
     "name": "stdout",
     "output_type": "stream",
     "text": [
      " bgcolor=\"white\" text=\"black\" font=\"Courier\">\n",
      "<center>\n",
      "<h3>\n",
      "Address Delivered at the Dedication of the Cemetery at Gettysburg <br>\n",
      "Abraham Lincoln <br>\n",
      "November 19, 1863 <br>\n",
      "</h3>\n",
      "</center>\n",
      "\n",
      "<p>\n",
      "Four score and seven years ago our fathers brought forth \n",
      "on this continent, a new nation, conceived in Liberty, and\n",
      "dedicated to the proposition that all men are created equal.\n",
      "</p>\n",
      "\n",
      "<p>\n",
      "Now we are engaged in a great civil war, testing whether\n",
      "that nation, or any nation so conceived and dedicated, can\n",
      "long endure.  We are met on a great battle-field of that war.\n",
      "We have come to dedicate a portion of that field, as a final\n",
      "resting place for those who here gave their lives that that\n",
      "nation might live.  It is altogether fitting and proper that we\n",
      "should do this.\n",
      "</p>\n",
      "\n",
      "<p>\n",
      "But, in a larger sense, we can not dedicate -- we can not\n",
      "consecrate -- we can not hallow -- this ground.  The brave men,\n",
      "living and dead, who struggled here, have consecrated it, far\n",
      "above our poor power to add or detract.  The world will little\n",
      "note, nor long remember what we say here, but it can never\n",
      "forget what they did here.  It is for us the living, rather, to be\n",
      "dedicated here to the unfinished work which they who fought\n",
      "here have thus far so nobly advanced.  It is rather for us to\n",
      "be here dedicated to the great task remaining before us -- that\n",
      "from these honored dead we take increased devotion to that\n",
      "cause for which they gave the last full measure of devotion --\n",
      "that we here highly resolve that these dead shall not have\n",
      "died in vain -- that this nation, under God, shall have a new\n",
      "birth of freedom -- and that government of the people, by the\n",
      "people, for the people, shall not perish from the earth.\n",
      "</p>\n",
      "\n",
      "\n"
     ]
    }
   ],
   "source": [
    "# If the following import gives error, go to command prompt and run \"conda install requests\"\n",
    "import requests\n",
    "import re\n",
    "\n",
    "url = 'http://www.d.umn.edu/~rmaclin/gettysburg-address.html'\n",
    "gettsburg_page = requests.get(url).text\n",
    "\n",
    "#read the body of the page\n",
    "x=re.split(\"<body\",gettsburg_page)[1]\n",
    "gettsburg=re.split(\"</body>\",x)[0]\n",
    "\n",
    "print(gettsburg)\n",
    "#type(gettsburg)"
   ]
  },
  {
   "cell_type": "code",
   "execution_count": 13,
   "metadata": {},
   "outputs": [],
   "source": [
    "# Now gettsburg has the text of Lincon's address.  Can you find the most commonly used words?\n",
    "import re\n",
    "d=dict()\n",
    "d.update({0:0})\n",
    "for j in gettsburg.split():\n",
    "    t=re.sub(\"\\.\",\"\",j)\n",
    "    i=re.sub(\"\\,\",\"\",t)\n",
    "    flag=0\n",
    "    #print(\"j is\",j)\n",
    "    for (key,value) in d.copy().items():\n",
    "        if(key==i):\n",
    "            d[key]+=1\n",
    "            flag=1\n",
    "    if(flag==0):\n",
    "        d.update({i:1})\n",
    "            \n",
    "if(d[0]==0):\n",
    "    d.pop(0)\n",
    "    \n",
    "filter={\"a\",\"the\",\"it\",\"The\",\"the\",\"so\",\"be\",\"what\",\"at\",\"<br>\",\"<p>\",\"</p>\",\"--\",\"that\",\"to\",\"of\",\"It\",\"is\",\"in\",\"and\",\"here\",\"can\",\"have\",\"for\",\"not\",\"are\",\"this\",\"who\",\"on\",\"shall\"}\n",
    "\n",
    "for i in filter:\n",
    "    for (key,value) in d.copy().items():\n",
    "        if(i==key):\n",
    "            d.pop(i)\n",
    "\n",
    "#print(\"final nation is\",d[\"nation\"])\n",
    "\n",
    "sorted_words = sorted(d, key=d.get, reverse=True)\n",
    "top_n = sorted_words[:10]\n",
    "top_dict=dict()\n",
    "for i in top_n:\n",
    "    top_dict.update({i:d[i]})\n",
    "#print(top_n,d[top_n])\n",
    "    \n",
    "#for (key,value) in d.items():\n",
    "    #print(key)\n",
    "    #print(value)"
   ]
  },
  {
   "cell_type": "markdown",
   "metadata": {},
   "source": [
    "\n",
    "# Problem 10: Do problem 9 excluding stop words like \"a, the, and etc.\""
   ]
  },
  {
   "cell_type": "code",
   "execution_count": 14,
   "metadata": {
    "scrolled": true
   },
   "outputs": [
    {
     "data": {
      "image/png": "[encoded data removed]",
      "text/plain": [
       "<Figure size 576x576 with 1 Axes>"
      ]
     },
     "metadata": {
      "needs_background": "light"
     },
     "output_type": "display_data"
    }
   ],
   "source": [
    "from wordcloud import WordCloud, STOPWORDS \n",
    "import matplotlib.pyplot as plt \n",
    "\n",
    "wordcloud = WordCloud(width = 800, height = 800, \n",
    "                background_color ='white', \n",
    "                #stopwords = filter, \n",
    "                min_font_size = 10).generate_from_frequencies(top_dict) \n",
    "\n",
    "#wc = WordCloud(background_color=\"white\",width=1000,height=1000, \n",
    "#               max_words=10,relative_scaling=0.5,normalize_plurals=False).generate_from_frequencies(dictionary)\n",
    "  \n",
    "# plot the WordCloud image                        \n",
    "plt.figure(figsize = (8, 8), facecolor = None) \n",
    "plt.imshow(wordcloud) \n",
    "plt.axis(\"off\") \n",
    "plt.tight_layout(pad = 0) \n",
    "  \n",
    "plt.show() "
   ]
  },
  {
   "cell_type": "code",
   "execution_count": null,
   "metadata": {},
   "outputs": [],
   "source": []
  }
 ],
 "metadata": {
  "kernelspec": {
   "display_name": "Python 3",
   "language": "python",
   "name": "python3"
  },
  "language_info": {
   "codemirror_mode": {
    "name": "ipython",
    "version": 3
   },
   "file_extension": ".py",
   "mimetype": "text/x-python",
   "name": "python",
   "nbconvert_exporter": "python",
   "pygments_lexer": "ipython3",
   "version": "3.6.5"
  }
 },
 "nbformat": 4,
 "nbformat_minor": 1
}
